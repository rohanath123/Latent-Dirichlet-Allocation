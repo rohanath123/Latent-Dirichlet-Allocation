{
  "nbformat": 4,
  "nbformat_minor": 0,
  "metadata": {
    "colab": {
      "name": "LDA_AUTOMOTIVE.ipynb",
      "provenance": [],
      "authorship_tag": "ABX9TyOmwon5sp18ktthPgDHYST5",
      "include_colab_link": true
    },
    "kernelspec": {
      "name": "python3",
      "display_name": "Python 3"
    },
    "accelerator": "GPU"
  },
  "cells": [
    {
      "cell_type": "markdown",
      "metadata": {
        "id": "view-in-github",
        "colab_type": "text"
      },
      "source": [
        "<a href=\"https://colab.research.google.com/github/rohanath123/Latent-Dirichlet-Allocation/blob/master/LDA_AUTOMOTIVE.ipynb\" target=\"_parent\"><img src=\"https://colab.research.google.com/assets/colab-badge.svg\" alt=\"Open In Colab\"/></a>"
      ]
    },
    {
      "cell_type": "code",
      "metadata": {
        "id": "Ji-AECIUQyg0",
        "colab_type": "code",
        "colab": {}
      },
      "source": [
        "import numpy as np \n",
        "import pandas as pd \n",
        "import re\n",
        "from pprint import pprint \n",
        "import gensim \n",
        "import gensim.corpora as corpora\n",
        "from gensim.utils import simple_preprocess"
      ],
      "execution_count": 0,
      "outputs": []
    },
    {
      "cell_type": "code",
      "metadata": {
        "id": "xV8Ed1j7RKL2",
        "colab_type": "code",
        "colab": {
          "base_uri": "https://localhost:8080/",
          "height": 93
        },
        "outputId": "29a54982-649f-42c4-96f9-09a556b179b1"
      },
      "source": [
        "import spacy\n",
        "!python -m spacy download en_core_web_sm"
      ],
      "execution_count": 2,
      "outputs": [
        {
          "output_type": "stream",
          "text": [
            "Requirement already satisfied: en_core_web_sm==2.1.0 from https://github.com/explosion/spacy-models/releases/download/en_core_web_sm-2.1.0/en_core_web_sm-2.1.0.tar.gz#egg=en_core_web_sm==2.1.0 in /usr/local/lib/python3.6/dist-packages (2.1.0)\n",
            "\u001b[38;5;2m✔ Download and installation successful\u001b[0m\n",
            "You can now load the model via spacy.load('en_core_web_sm')\n"
          ],
          "name": "stdout"
        }
      ]
    },
    {
      "cell_type": "code",
      "metadata": {
        "id": "OoZtacOARO7g",
        "colab_type": "code",
        "colab": {
          "base_uri": "https://localhost:8080/",
          "height": 73
        },
        "outputId": "2fc0ea07-0f42-4509-abd0-75ec61705599"
      },
      "source": [
        "import nltk \n",
        "from nltk.corpus import stopwords\n",
        "nltk.download('stopwords')"
      ],
      "execution_count": 4,
      "outputs": [
        {
          "output_type": "stream",
          "text": [
            "[nltk_data] Downloading package stopwords to /root/nltk_data...\n",
            "[nltk_data]   Unzipping corpora/stopwords.zip.\n"
          ],
          "name": "stdout"
        },
        {
          "output_type": "execute_result",
          "data": {
            "text/plain": [
              "True"
            ]
          },
          "metadata": {
            "tags": []
          },
          "execution_count": 4
        }
      ]
    },
    {
      "cell_type": "code",
      "metadata": {
        "id": "RQMk7Cq4RwKc",
        "colab_type": "code",
        "colab": {
          "base_uri": "https://localhost:8080/",
          "height": 130
        },
        "outputId": "29b8bfc8-0055-4f8c-a53e-a19b468e5f52"
      },
      "source": [
        "from google.colab import drive\n",
        "drive.mount('/content/drive')"
      ],
      "execution_count": 5,
      "outputs": [
        {
          "output_type": "stream",
          "text": [
            "Go to this URL in a browser: https://accounts.google.com/o/oauth2/auth?client_id=947318989803-6bn6qk8qdgf4n4g3pfee6491hc0brc4i.apps.googleusercontent.com&redirect_uri=urn%3aietf%3awg%3aoauth%3a2.0%3aoob&response_type=code&scope=email%20https%3a%2f%2fwww.googleapis.com%2fauth%2fdocs.test%20https%3a%2f%2fwww.googleapis.com%2fauth%2fdrive%20https%3a%2f%2fwww.googleapis.com%2fauth%2fdrive.photos.readonly%20https%3a%2f%2fwww.googleapis.com%2fauth%2fpeopleapi.readonly\n",
            "\n",
            "Enter your authorization code:\n",
            "··········\n",
            "Mounted at /content/drive\n"
          ],
          "name": "stdout"
        }
      ]
    },
    {
      "cell_type": "code",
      "metadata": {
        "id": "7Zbh2I0HRwqT",
        "colab_type": "code",
        "colab": {}
      },
      "source": [
        "df = pd.read_json('/content/drive/My Drive/Datasets/Automotive Review/Automotive_5.json', lines = True)"
      ],
      "execution_count": 0,
      "outputs": []
    },
    {
      "cell_type": "code",
      "metadata": {
        "id": "mGIpzNraR673",
        "colab_type": "code",
        "colab": {}
      },
      "source": [
        "df = df.reviewText"
      ],
      "execution_count": 0,
      "outputs": []
    },
    {
      "cell_type": "code",
      "metadata": {
        "id": "0pVvLrV-SC92",
        "colab_type": "code",
        "colab": {}
      },
      "source": [
        "data = df.values.tolist()"
      ],
      "execution_count": 0,
      "outputs": []
    },
    {
      "cell_type": "code",
      "metadata": {
        "id": "7qSbEox6SU-u",
        "colab_type": "code",
        "colab": {}
      },
      "source": [
        "def sent_to_words(sentences):\n",
        "  for sent in sentences:\n",
        "    yield(gensim.utils.simple_preprocess(str(sent), deacc = True))"
      ],
      "execution_count": 0,
      "outputs": []
    },
    {
      "cell_type": "code",
      "metadata": {
        "id": "EmX-WAznSrMn",
        "colab_type": "code",
        "colab": {}
      },
      "source": [
        "data_words = list(sent_to_words(data))\n",
        "data_words[0]"
      ],
      "execution_count": 0,
      "outputs": []
    },
    {
      "cell_type": "code",
      "metadata": {
        "id": "dssEfJeISzeT",
        "colab_type": "code",
        "colab": {}
      },
      "source": [
        "stop_words = stopwords.words('english')"
      ],
      "execution_count": 0,
      "outputs": []
    },
    {
      "cell_type": "code",
      "metadata": {
        "id": "89l3swZFS7_d",
        "colab_type": "code",
        "colab": {}
      },
      "source": [
        "def remove_stopwords(texts):\n",
        "  return([word for word in simple_preprocess(str(doc)) if word not in stop_words] for doc in texts)"
      ],
      "execution_count": 0,
      "outputs": []
    },
    {
      "cell_type": "code",
      "metadata": {
        "id": "HoV1Rb0QTMmO",
        "colab_type": "code",
        "colab": {}
      },
      "source": [
        "data_words_nonstop = remove_stopwords(data_words) "
      ],
      "execution_count": 0,
      "outputs": []
    },
    {
      "cell_type": "code",
      "metadata": {
        "id": "jmiwpPVOTSkC",
        "colab_type": "code",
        "colab": {
          "base_uri": "https://localhost:8080/",
          "height": 54
        },
        "outputId": "3baba950-984b-4518-8b09-da2e9a00a6ca"
      },
      "source": [
        "bigrams = gensim.models.Phrases(data_words, min_count = 5, threshold = 100)\n",
        "trigrams = gensim.models.Phrases(bigrams[data_words], threshold = 100)"
      ],
      "execution_count": 22,
      "outputs": [
        {
          "output_type": "stream",
          "text": [
            "/usr/local/lib/python3.6/dist-packages/gensim/models/phrases.py:598: UserWarning: For a faster implementation, use the gensim.models.phrases.Phraser class\n",
            "  warnings.warn(\"For a faster implementation, use the gensim.models.phrases.Phraser class\")\n"
          ],
          "name": "stderr"
        }
      ]
    },
    {
      "cell_type": "code",
      "metadata": {
        "id": "glVknkm5Tf3s",
        "colab_type": "code",
        "colab": {}
      },
      "source": [
        "bigram_mod = gensim.models.phrases.Phraser(bigrams)\n",
        "trigram_mod = gensim.models.phrases.Phraser(trigrams)"
      ],
      "execution_count": 0,
      "outputs": []
    },
    {
      "cell_type": "code",
      "metadata": {
        "id": "X4mQyhsLTphn",
        "colab_type": "code",
        "colab": {}
      },
      "source": [
        "def make_bigrams(texts):\n",
        "  return([bigram_mod[doc] for doc in texts])\n",
        "def make_trigrams(texts):\n",
        "  return([trigram_mod[doc] for doc in texts])"
      ],
      "execution_count": 0,
      "outputs": []
    },
    {
      "cell_type": "code",
      "metadata": {
        "id": "aBdBLQnJT0hT",
        "colab_type": "code",
        "colab": {}
      },
      "source": [
        "def lemma(texts, allowed_postags = ['ADJ', 'ADV', 'VERB', 'NOUN']):\n",
        "  texts_out = []\n",
        "  for sent in texts:\n",
        "    doc = nlp(\" \".join(sent))\n",
        "    texts_out.append([token.lemma_ for token in doc if token.pos_ in allowed_postags])\n",
        "  return texts_out"
      ],
      "execution_count": 0,
      "outputs": []
    },
    {
      "cell_type": "code",
      "metadata": {
        "id": "XuSEQVm5USba",
        "colab_type": "code",
        "colab": {}
      },
      "source": [
        "data_words_bigrams = make_bigrams(data_words_nonstop)"
      ],
      "execution_count": 0,
      "outputs": []
    },
    {
      "cell_type": "code",
      "metadata": {
        "id": "yrTUqqzpUbfs",
        "colab_type": "code",
        "colab": {}
      },
      "source": [
        "nlp = spacy.load('en_core_web_sm', diable = ['parser', 'ner'])"
      ],
      "execution_count": 0,
      "outputs": []
    },
    {
      "cell_type": "code",
      "metadata": {
        "id": "sh4MzBSmUis2",
        "colab_type": "code",
        "colab": {}
      },
      "source": [
        "data_lem = lemma(data_words_bigrams)"
      ],
      "execution_count": 0,
      "outputs": []
    },
    {
      "cell_type": "code",
      "metadata": {
        "id": "3IX-N2X3WGL7",
        "colab_type": "code",
        "colab": {}
      },
      "source": [
        "id2word = corpora.Dictionary(data_lem)"
      ],
      "execution_count": 0,
      "outputs": []
    },
    {
      "cell_type": "code",
      "metadata": {
        "id": "8UbY_4YtWNXq",
        "colab_type": "code",
        "colab": {}
      },
      "source": [
        "texts = data_lem"
      ],
      "execution_count": 0,
      "outputs": []
    },
    {
      "cell_type": "code",
      "metadata": {
        "id": "RQWcNraIWOek",
        "colab_type": "code",
        "colab": {}
      },
      "source": [
        "corpus = [id2word.doc2bow(text) for text in texts]"
      ],
      "execution_count": 0,
      "outputs": []
    },
    {
      "cell_type": "code",
      "metadata": {
        "id": "X4cymxfbWVwP",
        "colab_type": "code",
        "colab": {}
      },
      "source": [
        "lda_model = gensim.models.ldamodel.LdaModel(corpus = corpus, num_topics = 15, passes = 10, id2word = id2word, alpha = 'auto', per_word_topics = True)"
      ],
      "execution_count": 0,
      "outputs": []
    },
    {
      "cell_type": "code",
      "metadata": {
        "id": "pn-UZMQnbB83",
        "colab_type": "code",
        "colab": {
          "base_uri": "https://localhost:8080/",
          "height": 1000
        },
        "outputId": "75bebf1f-fd35-416d-ece1-976ffd428724"
      },
      "source": [
        "pprint(lda_model.print_topics())"
      ],
      "execution_count": 39,
      "outputs": [
        {
          "output_type": "stream",
          "text": [
            "[(0,\n",
            "  '0.080*\"oil\" + 0.061*\"filter\" + 0.038*\"change\" + 0.018*\"air\" + 0.018*\"use\" + '\n",
            "  '0.016*\"pump\" + 0.011*\"engine\" + 0.011*\"drain\" + 0.011*\"mile\" + '\n",
            "  '0.009*\"synthetic\"'),\n",
            " (1,\n",
            "  '0.083*\"hose\" + 0.031*\"cap\" + 0.029*\"glove\" + 0.022*\"leak\" + 0.020*\"valve\" + '\n",
            "  '0.018*\"sewer_hose\" + 0.015*\"cutting_board\" + 0.015*\"score\" + '\n",
            "  '0.012*\"fitting\" + 0.012*\"grease\"'),\n",
            " (2,\n",
            "  '0.045*\"car\" + 0.023*\"drive\" + 0.016*\"get\" + 0.016*\"day\" + 0.013*\"time\" + '\n",
            "  '0.012*\"go\" + 0.011*\"start\" + 0.010*\"use\" + 0.009*\"see\" + 0.008*\"first\"'),\n",
            " (3,\n",
            "  '0.070*\"battery\" + 0.042*\"power\" + 0.041*\"charge\" + 0.026*\"tire\" + '\n",
            "  '0.023*\"use\" + 0.021*\"plug\" + 0.020*\"charger\" + 0.018*\"gauge\" + 0.017*\"unit\" '\n",
            "  '+ 0.013*\"automatic\"'),\n",
            " (4,\n",
            "  '0.020*\"cover\" + 0.019*\"tire\" + 0.018*\"wheel\" + 0.016*\"look\" + 0.014*\"door\" '\n",
            "  '+ 0.013*\"tape\" + 0.013*\"area\" + 0.012*\"plastic\" + 0.012*\"surface\" + '\n",
            "  '0.012*\"brush\"'),\n",
            " (5,\n",
            "  '0.153*\"blade\" + 0.132*\"water\" + 0.025*\"nozzle\" + 0.024*\"usb\" + '\n",
            "  '0.021*\"bucket\" + 0.016*\"hose\" + 0.014*\"rinse\" + 0.013*\"dog\" + '\n",
            "  '0.013*\"pressure\" + 0.009*\"wiper_blades\"'),\n",
            " (6,\n",
            "  '0.037*\"brake\" + 0.017*\"mpg\" + 0.016*\"fluid\" + 0.015*\"privacy\" + '\n",
            "  '0.015*\"speed\" + 0.012*\"mileage\" + 0.012*\"acceleration\" + 0.012*\"honda\" + '\n",
            "  '0.012*\"driving_habit\" + 0.010*\"increase\"'),\n",
            " (7,\n",
            "  '0.029*\"device\" + 0.024*\"car\" + 0.023*\"app\" + 0.015*\"phone\" + 0.015*\"code\" + '\n",
            "  '0.015*\"engine\" + 0.013*\"vehicle\" + 0.013*\"information\" + 0.011*\"check\" + '\n",
            "  '0.010*\"feature\"'),\n",
            " (8,\n",
            "  '0.035*\"car\" + 0.035*\"use\" + 0.025*\"towel\" + 0.023*\"clean\" + 0.022*\"dry\" + '\n",
            "  '0.017*\"wash\" + 0.017*\"product\" + 0.015*\"wax\" + 0.012*\"spray\" + '\n",
            "  '0.011*\"apply\"'),\n",
            " (9,\n",
            "  '0.037*\"install\" + 0.029*\"instal\" + 0.029*\"fit\" + 0.020*\"replace\" + '\n",
            "  '0.018*\"factory\" + 0.015*\"remove\" + 0.015*\"bolt\" + 0.015*\"oem\" + '\n",
            "  '0.014*\"mount\" + 0.013*\"minute\"'),\n",
            " (10,\n",
            "  '0.055*\"tank\" + 0.031*\"gas\" + 0.029*\"fuel\" + 0.019*\"run\" + 0.019*\"engine\" + '\n",
            "  '0.017*\"clean\" + 0.016*\"odor\" + 0.014*\"gallon\" + 0.013*\"bluetooth\" + '\n",
            "  '0.012*\"use\"'),\n",
            " (11,\n",
            "  '0.188*\"light\" + 0.063*\"bulb\" + 0.053*\"bright\" + 0.041*\"lead\" + '\n",
            "  '0.025*\"white\" + 0.024*\"color\" + 0.020*\"headlight\" + 0.015*\"blue\" + '\n",
            "  '0.014*\"replace\" + 0.013*\"night\"'),\n",
            " (12,\n",
            "  '0.032*\"work\" + 0.030*\"good\" + 0.029*\"well\" + 0.028*\"product\" + '\n",
            "  '0.027*\"great\" + 0.025*\"use\" + 0.019*\"buy\" + 0.016*\"price\" + 0.015*\"look\" + '\n",
            "  '0.015*\"get\"'),\n",
            " (13,\n",
            "  '0.080*\"wiper\" + 0.049*\"windshield\" + 0.038*\"rain\" + 0.024*\"snow\" + '\n",
            "  '0.020*\"bosch\" + 0.015*\"window\" + 0.014*\"streak\" + 0.013*\"ice\" + '\n",
            "  '0.013*\"glass\" + 0.010*\"driver\"'),\n",
            " (14,\n",
            "  '0.022*\"use\" + 0.016*\"make\" + 0.015*\"get\" + 0.013*\"work\" + 0.013*\"need\" + '\n",
            "  '0.012*\"would\" + 0.010*\"easy\" + 0.009*\"well\" + 0.008*\"fit\" + 0.007*\"come\"')]\n"
          ],
          "name": "stdout"
        }
      ]
    },
    {
      "cell_type": "code",
      "metadata": {
        "id": "BPeufFGFbG1t",
        "colab_type": "code",
        "colab": {
          "base_uri": "https://localhost:8080/",
          "height": 36
        },
        "outputId": "f1546963-d00e-4ce1-8ae0-2720dcf189bb"
      },
      "source": [
        "from gensim.models import CoherenceModel\n",
        "coh = CoherenceModel(lda_model, texts = data_lem, dictionary = id2word)\n",
        "coh.get_coherence()"
      ],
      "execution_count": 40,
      "outputs": [
        {
          "output_type": "execute_result",
          "data": {
            "text/plain": [
              "0.47516938070058473"
            ]
          },
          "metadata": {
            "tags": []
          },
          "execution_count": 40
        }
      ]
    },
    {
      "cell_type": "code",
      "metadata": {
        "id": "Qj5TUFCXb0cE",
        "colab_type": "code",
        "colab": {}
      },
      "source": [
        "model_scores = []\n",
        "def test_models():\n",
        "  #every 3 topics starting from 5 to 30 or something\n",
        "  for i in range(10):\n",
        "    print(\"Iteration = \", i+1)\n",
        "    lda_model = gensim.models.ldamodel.LdaModel(corpus = corpus, num_topics = (5+i*3), id2word=id2word, passes = 10, alpha = 'auto', per_word_topics= True)\n",
        "    coh = CoherenceModel(lda_model, texts = data_lem, dictionary = id2word)\n",
        "    model_scores.append(coh.get_coherence())"
      ],
      "execution_count": 0,
      "outputs": []
    },
    {
      "cell_type": "code",
      "metadata": {
        "id": "r5Z6i7jZd9qe",
        "colab_type": "code",
        "colab": {
          "base_uri": "https://localhost:8080/",
          "height": 203
        },
        "outputId": "19501504-d60e-4547-8a39-e9d3ef8e8568"
      },
      "source": [
        "test_models()"
      ],
      "execution_count": 48,
      "outputs": [
        {
          "output_type": "stream",
          "text": [
            "Iteration =  1\n",
            "Iteration =  2\n",
            "Iteration =  3\n",
            "Iteration =  4\n",
            "Iteration =  5\n",
            "Iteration =  6\n",
            "Iteration =  7\n",
            "Iteration =  8\n",
            "Iteration =  9\n",
            "Iteration =  10\n"
          ],
          "name": "stdout"
        }
      ]
    },
    {
      "cell_type": "code",
      "metadata": {
        "id": "oKANEuXBd_gH",
        "colab_type": "code",
        "colab": {
          "base_uri": "https://localhost:8080/",
          "height": 388
        },
        "outputId": "6bf69989-e790-4ca9-cb92-a1d559cc19b2"
      },
      "source": [
        "model_scores"
      ],
      "execution_count": 49,
      "outputs": [
        {
          "output_type": "execute_result",
          "data": {
            "text/plain": [
              "[0.3939541255477976,\n",
              " 0.45126841284528707,\n",
              " 0.4446873667599302,\n",
              " 0.46650689204498275,\n",
              " 0.4808595330299227,\n",
              " 0.45977962422897745,\n",
              " 0.4593485697295227,\n",
              " 0.45133919174282217,\n",
              " 0.44632157764635305,\n",
              " 0.43499669335772595,\n",
              " 0.42303399031400934,\n",
              " 0.4283859631754213,\n",
              " 0.4857005219566968,\n",
              " 0.45109762330022196,\n",
              " 0.45992834863198534,\n",
              " 0.5066315728363933,\n",
              " 0.42963410345542846,\n",
              " 0.4614439367653832,\n",
              " 0.46175538909155356,\n",
              " 0.45087448468325]"
            ]
          },
          "metadata": {
            "tags": []
          },
          "execution_count": 49
        }
      ]
    },
    {
      "cell_type": "code",
      "metadata": {
        "id": "j3-doLflmymh",
        "colab_type": "code",
        "colab": {}
      },
      "source": [
        "x = [5+i*3 for i in range(10)]"
      ],
      "execution_count": 0,
      "outputs": []
    },
    {
      "cell_type": "code",
      "metadata": {
        "id": "RHVfSk5CnZDB",
        "colab_type": "code",
        "colab": {
          "base_uri": "https://localhost:8080/",
          "height": 36
        },
        "outputId": "31601efd-a666-42ca-b3ce-107b62600726"
      },
      "source": [
        "len(model_scores)"
      ],
      "execution_count": 55,
      "outputs": [
        {
          "output_type": "execute_result",
          "data": {
            "text/plain": [
              "20"
            ]
          },
          "metadata": {
            "tags": []
          },
          "execution_count": 55
        }
      ]
    },
    {
      "cell_type": "code",
      "metadata": {
        "id": "5hRp__C-nZR3",
        "colab_type": "code",
        "colab": {
          "base_uri": "https://localhost:8080/",
          "height": 265
        },
        "outputId": "394a1f05-731b-4643-8cd4-eb7978a18289"
      },
      "source": [
        "import matplotlib\n",
        "import matplotlib.pyplot as plt\n",
        "\n",
        "plt.plot(x, model_scores[10:20])\n",
        "plt.show()"
      ],
      "execution_count": 56,
      "outputs": [
        {
          "output_type": "display_data",
          "data": {
            "image/png": "[encoded data removed]",
            "text/plain": [
              "<Figure size 432x288 with 1 Axes>"
            ]
          },
          "metadata": {
            "tags": []
          }
        }
      ]
    },
    {
      "cell_type": "code",
      "metadata": {
        "id": "32YzqDNXnimQ",
        "colab_type": "code",
        "colab": {
          "base_uri": "https://localhost:8080/",
          "height": 36
        },
        "outputId": "70889589-45a0-490a-f9ea-408b13b0f7ce"
      },
      "source": [
        "lda_model = gensim.models.ldamodel.LdaModel(corpus = corpus, num_topics = 20, id2word=id2word, passes = 10, alpha = 'auto', per_word_topics= True)\n",
        "coh = CoherenceModel(lda_model, texts = data_lem, dictionary = id2word)\n",
        "print(coh.get_coherence())"
      ],
      "execution_count": 57,
      "outputs": [
        {
          "output_type": "stream",
          "text": [
            "0.44819370367983036\n"
          ],
          "name": "stdout"
        }
      ]
    },
    {
      "cell_type": "code",
      "metadata": {
        "id": "P3sLP95SoSYj",
        "colab_type": "code",
        "colab": {
          "base_uri": "https://localhost:8080/",
          "height": 780
        },
        "outputId": "f2938f82-3fb1-4203-e6d4-bd59a69b58ec"
      },
      "source": [
        "lda_model.print_topics()"
      ],
      "execution_count": 58,
      "outputs": [
        {
          "output_type": "execute_result",
          "data": {
            "text/plain": [
              "[(0,\n",
              "  '0.034*\"use\" + 0.032*\"car\" + 0.026*\"clean\" + 0.025*\"towel\" + 0.022*\"dry\" + 0.018*\"product\" + 0.018*\"wash\" + 0.015*\"wax\" + 0.014*\"leather\" + 0.013*\"water\"'),\n",
              " (1,\n",
              "  '0.095*\"battery\" + 0.056*\"charge\" + 0.053*\"power\" + 0.027*\"charger\" + 0.024*\"mat\" + 0.022*\"use\" + 0.021*\"unit\" + 0.021*\"car\" + 0.015*\"plug\" + 0.014*\"cable\"'),\n",
              " (2,\n",
              "  '0.018*\"handle\" + 0.016*\"small\" + 0.015*\"plastic\" + 0.015*\"hold\" + 0.014*\"side\" + 0.013*\"place\" + 0.012*\"large\" + 0.011*\"lock\" + 0.010*\"make\" + 0.010*\"easy\"'),\n",
              " (3,\n",
              "  '0.032*\"adapter\" + 0.025*\"connect\" + 0.024*\"port\" + 0.021*\"include\" + 0.020*\"information\" + 0.020*\"connector\" + 0.019*\"laptop\" + 0.015*\"output\" + 0.015*\"location\" + 0.013*\"vehicle\"'),\n",
              " (4,\n",
              "  '0.028*\"use\" + 0.026*\"work\" + 0.023*\"get\" + 0.022*\"well\" + 0.019*\"good\" + 0.015*\"car\" + 0.015*\"make\" + 0.015*\"great\" + 0.014*\"would\" + 0.014*\"product\"'),\n",
              " (5,\n",
              "  '0.148*\"oil\" + 0.114*\"filter\" + 0.066*\"change\" + 0.022*\"score\" + 0.018*\"air\" + 0.018*\"synthetic\" + 0.014*\"mile\" + 0.013*\"tablet\" + 0.013*\"oem\" + 0.012*\"sample\"'),\n",
              " (6,\n",
              "  '0.017*\"drive\" + 0.011*\"automatic\" + 0.010*\"brake\" + 0.010*\"driver\" + 0.009*\"board\" + 0.009*\"back\" + 0.009*\"brush\" + 0.008*\"wheel\" + 0.008*\"day\" + 0.008*\"first\"'),\n",
              " (7,\n",
              "  '0.042*\"car\" + 0.041*\"device\" + 0.038*\"app\" + 0.025*\"code\" + 0.022*\"phone\" + 0.022*\"engine\" + 0.019*\"datum\" + 0.017*\"check\" + 0.017*\"feature\" + 0.015*\"drive\"'),\n",
              " (8,\n",
              "  '0.121*\"tire\" + 0.052*\"pressure\" + 0.043*\"gauge\" + 0.039*\"air\" + 0.015*\"led\" + 0.014*\"accurate\" + 0.014*\"use\" + 0.014*\"compressor\" + 0.012*\"valve\" + 0.012*\"psi\"'),\n",
              " (9,\n",
              "  '0.116*\"fit\" + 0.037*\"cover\" + 0.033*\"perfectly\" + 0.032*\"seat\" + 0.028*\"trailer\" + 0.021*\"hitch\" + 0.018*\"size\" + 0.016*\"perfect\" + 0.015*\"mirror\" + 0.013*\"warm\"'),\n",
              " (10,\n",
              "  '0.028*\"water\" + 0.024*\"tank\" + 0.019*\"use\" + 0.015*\"run\" + 0.014*\"engine\" + 0.014*\"gas\" + 0.012*\"fuel\" + 0.012*\"leak\" + 0.011*\"drain\" + 0.011*\"mpg\"'),\n",
              " (11,\n",
              "  '0.039*\"bag\" + 0.029*\"glove\" + 0.029*\"bike\" + 0.026*\"sand\" + 0.021*\"strap\" + 0.018*\"pocket\" + 0.016*\"ride\" + 0.016*\"visor\" + 0.014*\"storage\" + 0.012*\"attachment\"'),\n",
              " (12,\n",
              "  '0.101*\"blade\" + 0.071*\"wiper\" + 0.043*\"windshield\" + 0.034*\"rain\" + 0.026*\"snow\" + 0.018*\"bosch\" + 0.014*\"winter\" + 0.013*\"ice\" + 0.013*\"window\" + 0.013*\"replace\"'),\n",
              " (13,\n",
              "  '0.138*\"kit\" + 0.030*\"step\" + 0.020*\"headlight\" + 0.019*\"privacy\" + 0.019*\"fuse\" + 0.018*\"pocket\" + 0.017*\"include\" + 0.017*\"dog\" + 0.014*\"photo\" + 0.014*\"fun\"'),\n",
              " (14,\n",
              "  '0.019*\"instruction\" + 0.017*\"sun\" + 0.017*\"look\" + 0.016*\"plastic\" + 0.014*\"clear\" + 0.013*\"streak\" + 0.010*\"door\" + 0.010*\"apply\" + 0.009*\"shoe\" + 0.009*\"video\"'),\n",
              " (15,\n",
              "  '0.046*\"tape\" + 0.031*\"surface\" + 0.028*\"carpet\" + 0.028*\"water\" + 0.021*\"zwipe\" + 0.019*\"wrap\" + 0.016*\"shower\" + 0.015*\"paint\" + 0.014*\"rust\" + 0.013*\"kitchen\"'),\n",
              " (16,\n",
              "  '0.068*\"hose\" + 0.018*\"usb\" + 0.017*\"end\" + 0.016*\"computer\" + 0.016*\"nozzle\" + 0.014*\"sewer_hose\" + 0.013*\"connection\" + 0.012*\"control\" + 0.011*\"fitting\" + 0.010*\"unit\"'),\n",
              " (17,\n",
              "  '0.023*\"tool\" + 0.021*\"plug\" + 0.020*\"wire\" + 0.019*\"use\" + 0.016*\"need\" + 0.013*\"inverter\" + 0.012*\"make\" + 0.011*\"socket\" + 0.009*\"switch\" + 0.009*\"small\"'),\n",
              " (18,\n",
              "  '0.225*\"light\" + 0.070*\"bulb\" + 0.059*\"bright\" + 0.049*\"lead\" + 0.028*\"white\" + 0.027*\"color\" + 0.019*\"replace\" + 0.018*\"night\" + 0.016*\"blue\" + 0.012*\"headlight\"'),\n",
              " (19,\n",
              "  '0.044*\"install\" + 0.032*\"fit\" + 0.026*\"easy\" + 0.025*\"instal\" + 0.023*\"look\" + 0.022*\"jeep\" + 0.021*\"mount\" + 0.015*\"bolt\" + 0.015*\"cap\" + 0.013*\"tape\"')]"
            ]
          },
          "metadata": {
            "tags": []
          },
          "execution_count": 58
        }
      ]
    },
    {
      "cell_type": "code",
      "metadata": {
        "id": "R9BqXzcLrJAW",
        "colab_type": "code",
        "colab": {}
      },
      "source": [
        ""
      ],
      "execution_count": 0,
      "outputs": []
    }
  ]
}