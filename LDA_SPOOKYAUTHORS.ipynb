{
  "nbformat": 4,
  "nbformat_minor": 0,
  "metadata": {
    "colab": {
      "name": "LDA_SPOOKYAUTHORS.ipynb",
      "provenance": [],
      "collapsed_sections": [],
      "authorship_tag": "ABX9TyOq8c6ff+FppCB65dkV/v8P",
      "include_colab_link": true
    },
    "kernelspec": {
      "name": "python3",
      "display_name": "Python 3"
    },
    "accelerator": "GPU"
  },
  "cells": [
    {
      "cell_type": "markdown",
      "metadata": {
        "id": "view-in-github",
        "colab_type": "text"
      },
      "source": [
        "<a href=\"https://colab.research.google.com/github/rohanath123/Latent-Dirichlet-Allocation/blob/master/LDA_SPOOKYAUTHORS.ipynb\" target=\"_parent\"><img src=\"https://colab.research.google.com/assets/colab-badge.svg\" alt=\"Open In Colab\"/></a>"
      ]
    },
    {
      "cell_type": "code",
      "metadata": {
        "id": "OK4AuV3FJzdj",
        "colab_type": "code",
        "outputId": "64d1be37-b3cc-4f81-d9b1-552d43c7c0fc",
        "colab": {
          "base_uri": "https://localhost:8080/",
          "height": 130
        }
      },
      "source": [
        "from google.colab import drive\n",
        "drive.mount('/content/drive')"
      ],
      "execution_count": 0,
      "outputs": [
        {
          "output_type": "stream",
          "text": [
            "Go to this URL in a browser: https://accounts.google.com/o/oauth2/auth?client_id=947318989803-6bn6qk8qdgf4n4g3pfee6491hc0brc4i.apps.googleusercontent.com&redirect_uri=urn%3aietf%3awg%3aoauth%3a2.0%3aoob&response_type=code&scope=email%20https%3a%2f%2fwww.googleapis.com%2fauth%2fdocs.test%20https%3a%2f%2fwww.googleapis.com%2fauth%2fdrive%20https%3a%2f%2fwww.googleapis.com%2fauth%2fdrive.photos.readonly%20https%3a%2f%2fwww.googleapis.com%2fauth%2fpeopleapi.readonly\n",
            "\n",
            "Enter your authorization code:\n",
            "··········\n",
            "Mounted at /content/drive\n"
          ],
          "name": "stdout"
        }
      ]
    },
    {
      "cell_type": "code",
      "metadata": {
        "id": "BFz_vW2i4enR",
        "colab_type": "code",
        "colab": {}
      },
      "source": [
        "import pandas as pd\n",
        "import numpy as np \n",
        "import re \n",
        "from pprint import pprint"
      ],
      "execution_count": 0,
      "outputs": []
    },
    {
      "cell_type": "code",
      "metadata": {
        "id": "31BkO16j4rio",
        "colab_type": "code",
        "colab": {}
      },
      "source": [
        "import gensim \n",
        "import gensim.corpora as corpora\n",
        "from gensim.utils import simple_preprocess"
      ],
      "execution_count": 0,
      "outputs": []
    },
    {
      "cell_type": "code",
      "metadata": {
        "id": "xOcUyheU47gV",
        "colab_type": "code",
        "outputId": "e330837d-fd9a-47a1-8ef9-4fe9cc9da3b7",
        "colab": {
          "base_uri": "https://localhost:8080/",
          "height": 93
        }
      },
      "source": [
        "import spacy\n",
        "!python -m spacy download en_core_web_sm"
      ],
      "execution_count": 0,
      "outputs": [
        {
          "output_type": "stream",
          "text": [
            "Requirement already satisfied: en_core_web_sm==2.1.0 from https://github.com/explosion/spacy-models/releases/download/en_core_web_sm-2.1.0/en_core_web_sm-2.1.0.tar.gz#egg=en_core_web_sm==2.1.0 in /usr/local/lib/python3.6/dist-packages (2.1.0)\n",
            "\u001b[38;5;2m✔ Download and installation successful\u001b[0m\n",
            "You can now load the model via spacy.load('en_core_web_sm')\n"
          ],
          "name": "stdout"
        }
      ]
    },
    {
      "cell_type": "code",
      "metadata": {
        "id": "ZawgHeO95FmJ",
        "colab_type": "code",
        "outputId": "995e3538-829f-45fe-a36b-e0fecd462630",
        "colab": {
          "base_uri": "https://localhost:8080/",
          "height": 73
        }
      },
      "source": [
        "import nltk\n",
        "from nltk.corpus import stopwords\n",
        "nltk.download('stopwords')"
      ],
      "execution_count": 0,
      "outputs": [
        {
          "output_type": "stream",
          "text": [
            "[nltk_data] Downloading package stopwords to /root/nltk_data...\n",
            "[nltk_data]   Unzipping corpora/stopwords.zip.\n"
          ],
          "name": "stdout"
        },
        {
          "output_type": "execute_result",
          "data": {
            "text/plain": [
              "True"
            ]
          },
          "metadata": {
            "tags": []
          },
          "execution_count": 5
        }
      ]
    },
    {
      "cell_type": "code",
      "metadata": {
        "id": "wWLF6z-g5WJZ",
        "colab_type": "code",
        "colab": {}
      },
      "source": [
        "df = pd.read_csv('/content/drive/My Drive/Datasets/Spooky Authors/train.csv')"
      ],
      "execution_count": 0,
      "outputs": []
    },
    {
      "cell_type": "code",
      "metadata": {
        "id": "Q5a8CRb_KIsr",
        "colab_type": "code",
        "colab": {}
      },
      "source": [
        "df = df.drop(['id', 'author'],axis = 1)"
      ],
      "execution_count": 0,
      "outputs": []
    },
    {
      "cell_type": "code",
      "metadata": {
        "id": "uSjouf94KJdR",
        "colab_type": "code",
        "colab": {}
      },
      "source": [
        "data = df.values.tolist()"
      ],
      "execution_count": 0,
      "outputs": []
    },
    {
      "cell_type": "code",
      "metadata": {
        "id": "SBMVBoNEKgUa",
        "colab_type": "code",
        "outputId": "4259faf7-ec42-4a61-bce5-254999b48ce7",
        "colab": {
          "base_uri": "https://localhost:8080/",
          "height": 56
        }
      },
      "source": [
        "'''\n",
        "1. TOKENIZE\n",
        "2. REMOVE STOPWORDS\n",
        "3. CREATE BIGRAMS AND TRIGRAMS \n",
        "4. LEMMATIZE\n",
        "5. ID2WORD\n",
        "6. CORPUS (I.E. BOW)\n",
        "7. MODEL\n",
        "'''"
      ],
      "execution_count": 0,
      "outputs": [
        {
          "output_type": "execute_result",
          "data": {
            "text/plain": [
              "'\\n1. TOKENIZE\\n2. REMOVE STOPWORDS\\n3. CREATE BIGRAMS AND TRIGRAMS \\n4. LEMMATIZE\\n5. ID2WORD\\n6. CORPUS (I.E. BOW)\\n7. MODEL\\n'"
            ]
          },
          "metadata": {
            "tags": []
          },
          "execution_count": 9
        }
      ]
    },
    {
      "cell_type": "markdown",
      "metadata": {
        "id": "Jp7hrKapOawB",
        "colab_type": "text"
      },
      "source": [
        "TOKENIZATION"
      ]
    },
    {
      "cell_type": "code",
      "metadata": {
        "id": "zvnPzdywMW2n",
        "colab_type": "code",
        "colab": {}
      },
      "source": [
        "def sent_to_words(sentences):\n",
        "  for sent in sentences:\n",
        "    yield(gensim.utils.simple_preprocess(str(sent), deacc = True))"
      ],
      "execution_count": 0,
      "outputs": []
    },
    {
      "cell_type": "code",
      "metadata": {
        "id": "tsgjfUmBMolz",
        "colab_type": "code",
        "colab": {}
      },
      "source": [
        "data_words = list(sent_to_words(data))"
      ],
      "execution_count": 0,
      "outputs": []
    },
    {
      "cell_type": "markdown",
      "metadata": {
        "id": "VY5AJZ3JOfbe",
        "colab_type": "text"
      },
      "source": [
        "REMOVE STOPWORDS"
      ]
    },
    {
      "cell_type": "code",
      "metadata": {
        "id": "-7j2-iZ6RV-r",
        "colab_type": "code",
        "colab": {}
      },
      "source": [
        "stop_words = stopwords.words('english')"
      ],
      "execution_count": 0,
      "outputs": []
    },
    {
      "cell_type": "code",
      "metadata": {
        "id": "U3IIEveqOUDn",
        "colab_type": "code",
        "colab": {}
      },
      "source": [
        "def remove_stopwords(texts):\n",
        "  return([word for word in simple_preprocess(str(doc)) if word not in stop_words] for doc in texts)"
      ],
      "execution_count": 0,
      "outputs": []
    },
    {
      "cell_type": "markdown",
      "metadata": {
        "id": "j2PWWpNEPtBJ",
        "colab_type": "text"
      },
      "source": [
        "MAKE BIGRAMS AND TRIGRAMS FUNTIONS"
      ]
    },
    {
      "cell_type": "code",
      "metadata": {
        "id": "iD7iQzykPl0R",
        "colab_type": "code",
        "outputId": "02ca3311-6423-4213-923b-c22a01745f53",
        "colab": {
          "base_uri": "https://localhost:8080/",
          "height": 74
        }
      },
      "source": [
        "bigrams = gensim.models.Phrases(data_words, min_count = 5, threshold = 100)\n",
        "trigrams = gensim.models.Phrases(bigrams[data_words], threshold = 100)"
      ],
      "execution_count": 0,
      "outputs": [
        {
          "output_type": "stream",
          "text": [
            "/usr/local/lib/python3.6/dist-packages/gensim/models/phrases.py:598: UserWarning: For a faster implementation, use the gensim.models.phrases.Phraser class\n",
            "  warnings.warn(\"For a faster implementation, use the gensim.models.phrases.Phraser class\")\n"
          ],
          "name": "stderr"
        }
      ]
    },
    {
      "cell_type": "code",
      "metadata": {
        "id": "W1ZZbFxUPz2r",
        "colab_type": "code",
        "colab": {}
      },
      "source": [
        "bigram_mod = gensim.models.phrases.Phraser(bigrams)\n",
        "trigram_mod = gensim.models.phrases.Phraser(trigrams)"
      ],
      "execution_count": 0,
      "outputs": []
    },
    {
      "cell_type": "code",
      "metadata": {
        "id": "VNx_nsNYP2NU",
        "colab_type": "code",
        "colab": {}
      },
      "source": [
        "def make_bigrams(texts):\n",
        "  return([bigram_mod[doc] for doc in texts])\n",
        "def make_trigrams(texts):\n",
        "  return([trigram_mod[doc] for doc in texts])"
      ],
      "execution_count": 0,
      "outputs": []
    },
    {
      "cell_type": "markdown",
      "metadata": {
        "id": "LYqmt3-9QFSp",
        "colab_type": "text"
      },
      "source": [
        "LEMMATIZATION"
      ]
    },
    {
      "cell_type": "code",
      "metadata": {
        "id": "mc-xuQA1QGb4",
        "colab_type": "code",
        "colab": {}
      },
      "source": [
        "def lemma(texts, allowed_postags = ['NOUN', 'ADJ', 'ADV', 'VERB']):\n",
        "  texts_out = []\n",
        "  for sent in texts:\n",
        "    doc = nlp(\" \".join(sent))\n",
        "    texts_out.append([token.lemma_ for token in doc if token.pos_ in allowed_postags])\n",
        "  return texts_out"
      ],
      "execution_count": 0,
      "outputs": []
    },
    {
      "cell_type": "markdown",
      "metadata": {
        "id": "y5jtTireQ9nC",
        "colab_type": "text"
      },
      "source": [
        "ACTUAL DATA CLEANING"
      ]
    },
    {
      "cell_type": "code",
      "metadata": {
        "id": "zh6zoGokQDrr",
        "colab_type": "code",
        "colab": {}
      },
      "source": [
        "data_words_nonstops = remove_stopwords(data_words)\n",
        "data_words_bigrams = make_bigrams(data_words_nonstops)"
      ],
      "execution_count": 0,
      "outputs": []
    },
    {
      "cell_type": "code",
      "metadata": {
        "id": "jRBKm03NRHlH",
        "colab_type": "code",
        "colab": {}
      },
      "source": [
        "nlp = spacy.load('en_core_web_sm', disable = ['parser', 'ner'])"
      ],
      "execution_count": 0,
      "outputs": []
    },
    {
      "cell_type": "code",
      "metadata": {
        "id": "EgScQs9iRoFp",
        "colab_type": "code",
        "colab": {}
      },
      "source": [
        "data_lem = lemma(data_words_bigrams)"
      ],
      "execution_count": 0,
      "outputs": []
    },
    {
      "cell_type": "code",
      "metadata": {
        "id": "qxguLPwSR9Cn",
        "colab_type": "code",
        "colab": {}
      },
      "source": [
        "id2word = corpora.Dictionary(data_lem)"
      ],
      "execution_count": 0,
      "outputs": []
    },
    {
      "cell_type": "code",
      "metadata": {
        "id": "SDmidDdDSKs6",
        "colab_type": "code",
        "colab": {}
      },
      "source": [
        "texts = data_lem"
      ],
      "execution_count": 0,
      "outputs": []
    },
    {
      "cell_type": "code",
      "metadata": {
        "id": "GChx8ZPMSLvr",
        "colab_type": "code",
        "colab": {}
      },
      "source": [
        "corpus = [id2word.doc2bow(text) for text in texts]"
      ],
      "execution_count": 0,
      "outputs": []
    },
    {
      "cell_type": "code",
      "metadata": {
        "id": "4jmON03KSQH6",
        "colab_type": "code",
        "colab": {}
      },
      "source": [
        "lda_model = gensim.models.ldamodel.LdaModel(corpus = corpus, num_topics = 15, id2word = id2word, passes = 10, alpha = 'auto', per_word_topics = True)"
      ],
      "execution_count": 0,
      "outputs": []
    },
    {
      "cell_type": "code",
      "metadata": {
        "id": "q-lgOLCiUaLY",
        "colab_type": "code",
        "outputId": "11d373cf-3f12-432f-8243-3bdc73833c7c",
        "colab": {
          "base_uri": "https://localhost:8080/",
          "height": 1000
        }
      },
      "source": [
        "pprint(lda_model.print_topics())"
      ],
      "execution_count": 0,
      "outputs": [
        {
          "output_type": "stream",
          "text": [
            "[(0,\n",
            "  '0.012*\"thing\" + 0.010*\"other\" + 0.009*\"understand\" + 0.009*\"therefore\" + '\n",
            "  '0.007*\"earth\" + 0.007*\"always\" + 0.006*\"sympathy\" + 0.006*\"easily\" + '\n",
            "  '0.006*\"certain\" + 0.005*\"put\"'),\n",
            " (1,\n",
            "  '0.027*\"eye\" + 0.010*\"horror\" + 0.010*\"seem\" + 0.008*\"sound\" + '\n",
            "  '0.007*\"scream\" + 0.007*\"extreme\" + 0.006*\"folk\" + 0.006*\"rush\" + '\n",
            "  '0.006*\"bottom\" + 0.006*\"lip\"'),\n",
            " (2,\n",
            "  '0.014*\"true\" + 0.012*\"nature\" + 0.009*\"fail\" + 0.008*\"singular\" + '\n",
            "  '0.008*\"west\" + 0.007*\"employ\" + 0.007*\"concern\" + 0.006*\"right\" + '\n",
            "  '0.006*\"ordinary\" + 0.006*\"similar\"'),\n",
            " (3,\n",
            "  '0.021*\"open\" + 0.021*\"door\" + 0.018*\"room\" + 0.010*\"close\" + 0.010*\"fall\" + '\n",
            "  '0.009*\"throw\" + 0.008*\"chamber\" + 0.008*\"answer\" + 0.008*\"window\" + '\n",
            "  '0.008*\"perceive\"'),\n",
            " (4,\n",
            "  '0.010*\"see\" + 0.009*\"black\" + 0.009*\"thing\" + 0.008*\"light\" + 0.008*\"stone\" '\n",
            "  '+ 0.008*\"face\" + 0.008*\"terrible\" + 0.007*\"eye\" + 0.006*\"look\" + '\n",
            "  '0.006*\"shape\"'),\n",
            " (5,\n",
            "  '0.035*\"house\" + 0.014*\"town\" + 0.013*\"ancient\" + 0.012*\"old\" + '\n",
            "  '0.006*\"servant\" + 0.006*\"lady\" + 0.006*\"enter\" + 0.006*\"absence\" + '\n",
            "  '0.006*\"people\" + 0.006*\"street\"'),\n",
            " (6,\n",
            "  '0.031*\"go\" + 0.012*\"get\" + 0.010*\"doubt\" + 0.010*\"find\" + 0.010*\"soon\" + '\n",
            "  '0.008*\"morning\" + 0.007*\"far\" + 0.007*\"way\" + 0.007*\"reply\" + '\n",
            "  '0.007*\"subject\"'),\n",
            " (7,\n",
            "  '0.013*\"tree\" + 0.013*\"light\" + 0.012*\"wind\" + 0.012*\"city\" + 0.012*\"sea\" + '\n",
            "  '0.010*\"water\" + 0.009*\"rise\" + 0.008*\"white\" + 0.008*\"mountain\" + '\n",
            "  '0.008*\"star\"'),\n",
            " (8,\n",
            "  '0.013*\"moon\" + 0.012*\"view\" + 0.009*\"sometimes\" + 0.009*\"eye\" + '\n",
            "  '0.008*\"imagine\" + 0.008*\"earth\" + 0.008*\"full\" + 0.007*\"half\" + '\n",
            "  '0.007*\"away\" + 0.007*\"arise\"'),\n",
            " (9,\n",
            "  '0.013*\"world\" + 0.011*\"father\" + 0.011*\"thing\" + 0.010*\"strange\" + '\n",
            "  '0.010*\"read\" + 0.010*\"kind\" + 0.010*\"wish\" + 0.009*\"something\" + '\n",
            "  '0.009*\"feeling\" + 0.009*\"die\"'),\n",
            " (10,\n",
            "  '0.008*\"continue\" + 0.008*\"finally\" + 0.008*\"seem\" + 0.007*\"early\" + '\n",
            "  '0.006*\"consider\" + 0.006*\"enemy\" + 0.006*\"pause\" + 0.006*\"ocean\" + '\n",
            "  '0.006*\"ice\" + 0.006*\"detail\"'),\n",
            " (11,\n",
            "  '0.014*\"move\" + 0.010*\"street\" + 0.009*\"evil\" + 0.007*\"presence\" + '\n",
            "  '0.006*\"go\" + 0.006*\"observation\" + 0.006*\"enough\" + 0.006*\"south\" + '\n",
            "  '0.006*\"tremble\" + 0.005*\"quiet\"'),\n",
            " (12,\n",
            "  '0.010*\"body\" + 0.008*\"regard\" + 0.008*\"motion\" + 0.008*\"foot\" + '\n",
            "  '0.007*\"latter\" + 0.007*\"arm\" + 0.007*\"seem\" + 0.007*\"less\" + '\n",
            "  '0.007*\"observe\" + 0.006*\"manner\"'),\n",
            " (13,\n",
            "  '0.020*\"live\" + 0.013*\"sleep\" + 0.010*\"desire\" + 0.009*\"character\" + '\n",
            "  '0.009*\"spirit\" + 0.007*\"period\" + 0.006*\"seem\" + 0.006*\"man\" + 0.006*\"die\" '\n",
            "  '+ 0.006*\"madness\"'),\n",
            " (14,\n",
            "  '0.020*\"say\" + 0.019*\"would\" + 0.018*\"could\" + 0.015*\"see\" + 0.015*\"may\" + '\n",
            "  '0.014*\"time\" + 0.013*\"make\" + 0.012*\"come\" + 0.012*\"man\" + 0.012*\"know\"')]\n"
          ],
          "name": "stdout"
        }
      ]
    },
    {
      "cell_type": "code",
      "metadata": {
        "id": "0XcuSVGWr5fQ",
        "colab_type": "code",
        "outputId": "5be1e080-556c-42e9-b524-4364406703f3",
        "colab": {
          "base_uri": "https://localhost:8080/",
          "height": 687
        }
      },
      "source": [
        "!pip install pyLDAvis"
      ],
      "execution_count": 0,
      "outputs": [
        {
          "output_type": "stream",
          "text": [
            "Collecting pyLDAvis\n",
            "\u001b[?25l  Downloading https://files.pythonhosted.org/packages/a5/3a/af82e070a8a96e13217c8f362f9a73e82d61ac8fff3a2561946a97f96266/pyLDAvis-2.1.2.tar.gz (1.6MB)\n",
            "\u001b[K     |████████████████████████████████| 1.6MB 3.3MB/s \n",
            "\u001b[?25hRequirement already satisfied: wheel>=0.23.0 in /usr/local/lib/python3.6/dist-packages (from pyLDAvis) (0.33.6)\n",
            "Requirement already satisfied: numpy>=1.9.2 in /usr/local/lib/python3.6/dist-packages (from pyLDAvis) (1.17.5)\n",
            "Requirement already satisfied: scipy>=0.18.0 in /usr/local/lib/python3.6/dist-packages (from pyLDAvis) (1.4.1)\n",
            "Requirement already satisfied: pandas>=0.17.0 in /usr/local/lib/python3.6/dist-packages (from pyLDAvis) (0.25.3)\n",
            "Requirement already satisfied: joblib>=0.8.4 in /usr/local/lib/python3.6/dist-packages (from pyLDAvis) (0.14.1)\n",
            "Requirement already satisfied: jinja2>=2.7.2 in /usr/local/lib/python3.6/dist-packages (from pyLDAvis) (2.10.3)\n",
            "Requirement already satisfied: numexpr in /usr/local/lib/python3.6/dist-packages (from pyLDAvis) (2.7.1)\n",
            "Requirement already satisfied: pytest in /usr/local/lib/python3.6/dist-packages (from pyLDAvis) (3.6.4)\n",
            "Requirement already satisfied: future in /usr/local/lib/python3.6/dist-packages (from pyLDAvis) (0.16.0)\n",
            "Collecting funcy\n",
            "\u001b[?25l  Downloading https://files.pythonhosted.org/packages/ce/4b/6ffa76544e46614123de31574ad95758c421aae391a1764921b8a81e1eae/funcy-1.14.tar.gz (548kB)\n",
            "\u001b[K     |████████████████████████████████| 552kB 20.0MB/s \n",
            "\u001b[?25hRequirement already satisfied: python-dateutil>=2.6.1 in /usr/local/lib/python3.6/dist-packages (from pandas>=0.17.0->pyLDAvis) (2.6.1)\n",
            "Requirement already satisfied: pytz>=2017.2 in /usr/local/lib/python3.6/dist-packages (from pandas>=0.17.0->pyLDAvis) (2018.9)\n",
            "Requirement already satisfied: MarkupSafe>=0.23 in /usr/local/lib/python3.6/dist-packages (from jinja2>=2.7.2->pyLDAvis) (1.1.1)\n",
            "Requirement already satisfied: atomicwrites>=1.0 in /usr/local/lib/python3.6/dist-packages (from pytest->pyLDAvis) (1.3.0)\n",
            "Requirement already satisfied: pluggy<0.8,>=0.5 in /usr/local/lib/python3.6/dist-packages (from pytest->pyLDAvis) (0.7.1)\n",
            "Requirement already satisfied: py>=1.5.0 in /usr/local/lib/python3.6/dist-packages (from pytest->pyLDAvis) (1.8.1)\n",
            "Requirement already satisfied: setuptools in /usr/local/lib/python3.6/dist-packages (from pytest->pyLDAvis) (42.0.2)\n",
            "Requirement already satisfied: attrs>=17.4.0 in /usr/local/lib/python3.6/dist-packages (from pytest->pyLDAvis) (19.3.0)\n",
            "Requirement already satisfied: six>=1.10.0 in /usr/local/lib/python3.6/dist-packages (from pytest->pyLDAvis) (1.12.0)\n",
            "Requirement already satisfied: more-itertools>=4.0.0 in /usr/local/lib/python3.6/dist-packages (from pytest->pyLDAvis) (8.0.2)\n",
            "Building wheels for collected packages: pyLDAvis, funcy\n",
            "  Building wheel for pyLDAvis (setup.py) ... \u001b[?25l\u001b[?25hdone\n",
            "  Created wheel for pyLDAvis: filename=pyLDAvis-2.1.2-py2.py3-none-any.whl size=97711 sha256=1c00e88c8a50cd2551feb116d517843006cfc0d5a88ab0316fc77e5865c031cb\n",
            "  Stored in directory: /root/.cache/pip/wheels/98/71/24/513a99e58bb6b8465bae4d2d5e9dba8f0bef8179e3051ac414\n",
            "  Building wheel for funcy (setup.py) ... \u001b[?25l\u001b[?25hdone\n",
            "  Created wheel for funcy: filename=funcy-1.14-py2.py3-none-any.whl size=32040 sha256=3c8c109a3a93f900c89a59d2e9daba68071091b0c2260b7649b284c666c3eeb0\n",
            "  Stored in directory: /root/.cache/pip/wheels/20/5a/d8/1d875df03deae6f178dfdf70238cca33f948ef8a6f5209f2eb\n",
            "Successfully built pyLDAvis funcy\n",
            "Installing collected packages: funcy, pyLDAvis\n",
            "Successfully installed funcy-1.14 pyLDAvis-2.1.2\n"
          ],
          "name": "stdout"
        }
      ]
    },
    {
      "cell_type": "code",
      "metadata": {
        "id": "LIxz3mh9tcMt",
        "colab_type": "code",
        "colab": {}
      },
      "source": [
        "from gensim.models import CoherenceModel"
      ],
      "execution_count": 0,
      "outputs": []
    },
    {
      "cell_type": "code",
      "metadata": {
        "id": "4Ijnv2PgOmJT",
        "colab_type": "code",
        "colab": {}
      },
      "source": [
        "coh = CoherenceModel(model = lda_model, texts = data_lem, dictionary = id2word)"
      ],
      "execution_count": 0,
      "outputs": []
    },
    {
      "cell_type": "code",
      "metadata": {
        "id": "7u6UPnICOxs5",
        "colab_type": "code",
        "outputId": "88a8eade-f202-46ed-da41-063dad9e9741",
        "colab": {
          "base_uri": "https://localhost:8080/",
          "height": 296
        }
      },
      "source": [
        "coh.get_coherence_per_topic()"
      ],
      "execution_count": 0,
      "outputs": [
        {
          "output_type": "execute_result",
          "data": {
            "text/plain": [
              "[0.3613336108748617,\n",
              " 0.4257007555143992,\n",
              " 0.28465105376925015,\n",
              " 0.33600424392114403,\n",
              " 0.44309082926459614,\n",
              " 0.3578391524880143,\n",
              " 0.2572543325170049,\n",
              " 0.5043776994209135,\n",
              " 0.27042273948036477,\n",
              " 0.2763773119589108,\n",
              " 0.3146418976127136,\n",
              " 0.41687147286627246,\n",
              " 0.23942788298383552,\n",
              " 0.2271363133275265,\n",
              " 0.40065010203608453]"
            ]
          },
          "metadata": {
            "tags": []
          },
          "execution_count": 35
        }
      ]
    },
    {
      "cell_type": "code",
      "metadata": {
        "id": "oW5GeEwuOzY6",
        "colab_type": "code",
        "colab": {}
      },
      "source": [
        ""
      ],
      "execution_count": 0,
      "outputs": []
    }
  ]
}