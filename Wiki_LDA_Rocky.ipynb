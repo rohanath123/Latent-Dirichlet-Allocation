{
  "nbformat": 4,
  "nbformat_minor": 0,
  "metadata": {
    "colab": {
      "name": "Wiki_LDA_Rocky.ipynb",
      "provenance": [],
      "authorship_tag": "ABX9TyOiSDoxJQma+FSMdbAjJT3W",
      "include_colab_link": true
    },
    "kernelspec": {
      "name": "python3",
      "display_name": "Python 3"
    }
  },
  "cells": [
    {
      "cell_type": "markdown",
      "metadata": {
        "id": "view-in-github",
        "colab_type": "text"
      },
      "source": [
        "<a href=\"https://colab.research.google.com/github/rohanath123/Latent-Dirichlet-Allocation/blob/master/Wiki_LDA_Rocky.ipynb\" target=\"_parent\"><img src=\"https://colab.research.google.com/assets/colab-badge.svg\" alt=\"Open In Colab\"/></a>"
      ]
    },
    {
      "cell_type": "code",
      "metadata": {
        "id": "DVGCRrmlDJct",
        "colab_type": "code",
        "colab": {}
      },
      "source": [
        "import bs4 as bs"
      ],
      "execution_count": 0,
      "outputs": []
    },
    {
      "cell_type": "code",
      "metadata": {
        "id": "ca22zCYwDgnH",
        "colab_type": "code",
        "colab": {}
      },
      "source": [
        "import urllib.request"
      ],
      "execution_count": 0,
      "outputs": []
    },
    {
      "cell_type": "code",
      "metadata": {
        "id": "6jzdQKCkFHfn",
        "colab_type": "code",
        "colab": {}
      },
      "source": [
        "from pprint import pprint"
      ],
      "execution_count": 0,
      "outputs": []
    },
    {
      "cell_type": "code",
      "metadata": {
        "id": "FC9BXrRcdH06",
        "colab_type": "code",
        "colab": {}
      },
      "source": [
        "import re"
      ],
      "execution_count": 0,
      "outputs": []
    },
    {
      "cell_type": "code",
      "metadata": {
        "id": "eLBs_ojbDmD2",
        "colab_type": "code",
        "colab": {}
      },
      "source": [
        "source = urllib.request.urlopen('https://en.wikipedia.org/wiki/ASAP_Rocky').read()"
      ],
      "execution_count": 0,
      "outputs": []
    },
    {
      "cell_type": "code",
      "metadata": {
        "id": "f62eq29sELHP",
        "colab_type": "code",
        "colab": {}
      },
      "source": [
        "soup = bs.BeautifulSoup(source, 'html5lib')"
      ],
      "execution_count": 0,
      "outputs": []
    },
    {
      "cell_type": "code",
      "metadata": {
        "id": "PSqtcfjjHVvm",
        "colab_type": "code",
        "colab": {}
      },
      "source": [
        "data = []\n",
        "for paragraph in soup.find_all('p'):\n",
        "  data.append(paragraph.text)"
      ],
      "execution_count": 0,
      "outputs": []
    },
    {
      "cell_type": "code",
      "metadata": {
        "id": "1BtBZ6fjdC0j",
        "colab_type": "code",
        "colab": {}
      },
      "source": [
        "data = [re.sub('\\S*@\\S*\\s?', '', sent) for sent in data]\n",
        "data = [re.sub(\"\\'\", \"\", sent) for sent in data]"
      ],
      "execution_count": 0,
      "outputs": []
    },
    {
      "cell_type": "code",
      "metadata": {
        "id": "E2WzFysUdy_W",
        "colab_type": "code",
        "colab": {}
      },
      "source": [
        "import gensim\n",
        "from gensim.utils import simple_preprocess\n",
        "import gensim.corpora as corpora"
      ],
      "execution_count": 0,
      "outputs": []
    },
    {
      "cell_type": "code",
      "metadata": {
        "id": "HRol4sqXdKY7",
        "colab_type": "code",
        "colab": {}
      },
      "source": [
        "def sent_to_words(sentences):\n",
        "  for sent in sentences:\n",
        "    yield(gensim.utils.simple_preprocess(str(sent), deacc = True))"
      ],
      "execution_count": 0,
      "outputs": []
    },
    {
      "cell_type": "code",
      "metadata": {
        "id": "yVDIoYGTdr7D",
        "colab_type": "code",
        "colab": {}
      },
      "source": [
        "data_words = list(sent_to_words(data))"
      ],
      "execution_count": 0,
      "outputs": []
    },
    {
      "cell_type": "code",
      "metadata": {
        "id": "B-5HZPTGdxAz",
        "colab_type": "code",
        "colab": {}
      },
      "source": [
        "import spacy\n",
        "import nltk\n",
        "from nltk.corpus import stopwords"
      ],
      "execution_count": 0,
      "outputs": []
    },
    {
      "cell_type": "code",
      "metadata": {
        "id": "X7pv8-nBeBo6",
        "colab_type": "code",
        "outputId": "de9f753e-e251-4122-939c-6a8678660ba7",
        "colab": {
          "base_uri": "https://localhost:8080/",
          "height": 54
        }
      },
      "source": [
        "nltk.download('stopwords')\n",
        "stop_words = stopwords.words('english')"
      ],
      "execution_count": 16,
      "outputs": [
        {
          "output_type": "stream",
          "text": [
            "[nltk_data] Downloading package stopwords to /root/nltk_data...\n",
            "[nltk_data]   Unzipping corpora/stopwords.zip.\n"
          ],
          "name": "stdout"
        }
      ]
    },
    {
      "cell_type": "code",
      "metadata": {
        "id": "S16dO5fxebQz",
        "colab_type": "code",
        "colab": {}
      },
      "source": [
        "def remove_stopwords(texts):\n",
        "  x = [[word for word in simple_preprocess(str(doc)) if word not in stop_words] for doc in texts]\n",
        "  return(x)"
      ],
      "execution_count": 0,
      "outputs": []
    },
    {
      "cell_type": "code",
      "metadata": {
        "id": "7iHqNjtofTZz",
        "colab_type": "code",
        "colab": {}
      },
      "source": [
        "data_words_nonstop = remove_stopwords(data_words)"
      ],
      "execution_count": 0,
      "outputs": []
    },
    {
      "cell_type": "code",
      "metadata": {
        "id": "6ElSZaLTfYwL",
        "colab_type": "code",
        "colab": {}
      },
      "source": [
        "def lemma(texts, allowed_postags = ['ADV', 'VERB', 'NOUN', 'ADJ']):\n",
        "  texts_out = []\n",
        "  for sent in texts:\n",
        "    doc = nlp(\" \".join(sent))\n",
        "    texts_out.append([token.lemma_ for token in doc if token.pos_ in allowed_postags])\n",
        "  return texts_out"
      ],
      "execution_count": 0,
      "outputs": []
    },
    {
      "cell_type": "code",
      "metadata": {
        "id": "Vpui2K6qjsbx",
        "colab_type": "code",
        "outputId": "b738f43d-325d-471d-eec0-5f4a04089852",
        "colab": {
          "base_uri": "https://localhost:8080/",
          "height": 93
        }
      },
      "source": [
        "!python -m spacy download en_core_web_sm"
      ],
      "execution_count": 20,
      "outputs": [
        {
          "output_type": "stream",
          "text": [
            "Requirement already satisfied: en_core_web_sm==2.1.0 from https://github.com/explosion/spacy-models/releases/download/en_core_web_sm-2.1.0/en_core_web_sm-2.1.0.tar.gz#egg=en_core_web_sm==2.1.0 in /usr/local/lib/python3.6/dist-packages (2.1.0)\n",
            "\u001b[38;5;2m✔ Download and installation successful\u001b[0m\n",
            "You can now load the model via spacy.load('en_core_web_sm')\n"
          ],
          "name": "stdout"
        }
      ]
    },
    {
      "cell_type": "code",
      "metadata": {
        "id": "BW5aSLCgj497",
        "colab_type": "code",
        "colab": {}
      },
      "source": [
        "nlp = spacy.load('en_core_web_sm', disable = ['parser', 'ner'])"
      ],
      "execution_count": 0,
      "outputs": []
    },
    {
      "cell_type": "code",
      "metadata": {
        "id": "TdE5_XdfkaxC",
        "colab_type": "code",
        "colab": {}
      },
      "source": [
        "bigrams = gensim.models.Phrases(data_words, min_count = 5, threshold = 100)"
      ],
      "execution_count": 0,
      "outputs": []
    },
    {
      "cell_type": "code",
      "metadata": {
        "id": "SwL6B1DglYm7",
        "colab_type": "code",
        "colab": {}
      },
      "source": [
        "bigram_mod = gensim.models.phrases.Phraser(bigrams)"
      ],
      "execution_count": 0,
      "outputs": []
    },
    {
      "cell_type": "code",
      "metadata": {
        "id": "LhLqZxTlll8K",
        "colab_type": "code",
        "colab": {}
      },
      "source": [
        "def make_bigrams(texts):\n",
        "  return([bigram_mod[doc] for doc in texts])"
      ],
      "execution_count": 0,
      "outputs": []
    },
    {
      "cell_type": "code",
      "metadata": {
        "id": "y2nxa1yMlu8i",
        "colab_type": "code",
        "colab": {}
      },
      "source": [
        "data_words_bigrams = make_bigrams(data_words_nonstop)"
      ],
      "execution_count": 0,
      "outputs": []
    },
    {
      "cell_type": "code",
      "metadata": {
        "id": "AMw-aGy7l6BB",
        "colab_type": "code",
        "colab": {}
      },
      "source": [
        "data_lem = lemma(data_words_bigrams)"
      ],
      "execution_count": 0,
      "outputs": []
    },
    {
      "cell_type": "code",
      "metadata": {
        "id": "MmAPSf28papM",
        "colab_type": "code",
        "colab": {}
      },
      "source": [
        "id2word = corpora.Dictionary(data_lem)"
      ],
      "execution_count": 0,
      "outputs": []
    },
    {
      "cell_type": "code",
      "metadata": {
        "id": "wq2Ng79ophVJ",
        "colab_type": "code",
        "colab": {}
      },
      "source": [
        "texts = data_lem"
      ],
      "execution_count": 0,
      "outputs": []
    },
    {
      "cell_type": "code",
      "metadata": {
        "id": "eYUX3Ui1pkHK",
        "colab_type": "code",
        "colab": {}
      },
      "source": [
        "corpus = [id2word.doc2bow(text) for text in texts]"
      ],
      "execution_count": 0,
      "outputs": []
    },
    {
      "cell_type": "code",
      "metadata": {
        "id": "45HR2snYpuFh",
        "colab_type": "code",
        "colab": {}
      },
      "source": [
        "lda_model = gensim.models.ldamodel.LdaModel(corpus = corpus, num_topics = 10, id2word = id2word, alpha = 'auto', per_word_topics=True)"
      ],
      "execution_count": 0,
      "outputs": []
    },
    {
      "cell_type": "code",
      "metadata": {
        "id": "Ux6NbCQqp_d6",
        "colab_type": "code",
        "colab": {}
      },
      "source": [
        "from gensim.models import CoherenceModel"
      ],
      "execution_count": 0,
      "outputs": []
    },
    {
      "cell_type": "code",
      "metadata": {
        "id": "66pjPQ2Nr5mw",
        "colab_type": "code",
        "colab": {}
      },
      "source": [
        "c = CoherenceModel(model = lda_model, corpus = corpus, dictionary= id2word, texts = data_lem)"
      ],
      "execution_count": 0,
      "outputs": []
    },
    {
      "cell_type": "code",
      "metadata": {
        "id": "CrBl21b9sEMY",
        "colab_type": "code",
        "colab": {
          "base_uri": "https://localhost:8080/",
          "height": 36
        },
        "outputId": "f81ea909-eef9-44cc-8b87-de8d472c8dd2"
      },
      "source": [
        "c.get_coherence()"
      ],
      "execution_count": 40,
      "outputs": [
        {
          "output_type": "execute_result",
          "data": {
            "text/plain": [
              "0.3580659045104916"
            ]
          },
          "metadata": {
            "tags": []
          },
          "execution_count": 40
        }
      ]
    },
    {
      "cell_type": "code",
      "metadata": {
        "id": "jihtrAzNsQIA",
        "colab_type": "code",
        "colab": {
          "base_uri": "https://localhost:8080/",
          "height": 370
        },
        "outputId": "14c15a68-8776-4546-8543-f77e9195e7ff"
      },
      "source": [
        "scores = []\n",
        "for i in range(1, 20):\n",
        "  print(i)\n",
        "  lda_model = gensim.models.ldamodel.LdaModel(corpus = corpus, num_topics = 2*i, id2word = id2word, alpha = 'auto', per_word_topics = True)\n",
        "  c = CoherenceModel(model = lda_model, corpus = corpus, dictionary= id2word, texts = data_lem)  \n",
        "  scores.append(c.get_coherence())"
      ],
      "execution_count": 42,
      "outputs": [
        {
          "output_type": "stream",
          "text": [
            "1\n",
            "2\n",
            "3\n",
            "4\n",
            "5\n",
            "6\n",
            "7\n",
            "8\n",
            "9\n",
            "10\n",
            "11\n",
            "12\n",
            "13\n",
            "14\n",
            "15\n",
            "16\n",
            "17\n",
            "18\n",
            "19\n"
          ],
          "name": "stdout"
        }
      ]
    },
    {
      "cell_type": "code",
      "metadata": {
        "id": "fPqTbejis98p",
        "colab_type": "code",
        "colab": {
          "base_uri": "https://localhost:8080/",
          "height": 36
        },
        "outputId": "80e66095-7751-40e2-df30-920a9296189d"
      },
      "source": [
        "(len(scores))"
      ],
      "execution_count": 45,
      "outputs": [
        {
          "output_type": "execute_result",
          "data": {
            "text/plain": [
              "19"
            ]
          },
          "metadata": {
            "tags": []
          },
          "execution_count": 45
        }
      ]
    },
    {
      "cell_type": "code",
      "metadata": {
        "id": "SSKpknaKtdaK",
        "colab_type": "code",
        "colab": {}
      },
      "source": [
        "lda_model = gensim.models.ldamodel.LdaModel(corpus = corpus, num_topics = 15, id2word = id2word, alpha = 'symmetric', per_word_topics = True) "
      ],
      "execution_count": 0,
      "outputs": []
    },
    {
      "cell_type": "code",
      "metadata": {
        "id": "UHRozNabttxa",
        "colab_type": "code",
        "colab": {
          "base_uri": "https://localhost:8080/",
          "height": 36
        },
        "outputId": "d955d655-ac6d-41d0-893c-d3623fb1bd95"
      },
      "source": [
        "c = CoherenceModel(model = lda_model, corpus = corpus, dictionary= id2word, texts = data_lem)  \n",
        "c.get_coherence()"
      ],
      "execution_count": 58,
      "outputs": [
        {
          "output_type": "execute_result",
          "data": {
            "text/plain": [
              "0.4499497290996848"
            ]
          },
          "metadata": {
            "tags": []
          },
          "execution_count": 58
        }
      ]
    },
    {
      "cell_type": "code",
      "metadata": {
        "id": "E7QjuadMtycR",
        "colab_type": "code",
        "colab": {
          "base_uri": "https://localhost:8080/",
          "height": 1000
        },
        "outputId": "e68af812-4fb9-48ea-d7c1-60c6e7a3cd7b"
      },
      "source": [
        "pprint(lda_model.print_topics())"
      ],
      "execution_count": 59,
      "outputs": [
        {
          "output_type": "stream",
          "text": [
            "[(0,\n",
            "  '0.027*\"mayer\" + 0.019*\"rocky\" + 0.013*\"video\" + 0.013*\"music\" + '\n",
            "  '0.012*\"record\" + 0.010*\"release\" + 0.008*\"october\" + 0.007*\"single\" + '\n",
            "  '0.007*\"premiere\" + 0.007*\"hold\"'),\n",
            " (1,\n",
            "  '0.018*\"mayer\" + 0.010*\"rocky\" + 0.008*\"video\" + 0.008*\"release\" + '\n",
            "  '0.008*\"album\" + 0.008*\"instrumental\" + 0.007*\"sweden\" + 0.007*\"jafari\" + '\n",
            "  '0.007*\"beauty\" + 0.007*\"swedish\"'),\n",
            " (2,\n",
            "  '0.037*\"rocky\" + 0.016*\"release\" + 0.012*\"june\" + 0.012*\"single\" + '\n",
            "  '0.012*\"yam\" + 0.012*\"rapper\" + 0.011*\"music\" + 0.009*\"mob\" + 0.009*\"late\" + '\n",
            "  '0.009*\"deal\"'),\n",
            " (3,\n",
            "  '0.018*\"mayer\" + 0.016*\"release\" + 0.014*\"sweden\" + 0.012*\"swedish\" + '\n",
            "  '0.012*\"rocky\" + 0.009*\"record\" + 0.008*\"deal\" + 0.007*\"sign\" + '\n",
            "  '0.007*\"october\" + 0.006*\"ground\"'),\n",
            " (4,\n",
            "  '0.002*\"mayer\" + 0.002*\"video\" + 0.002*\"jafari\" + 0.001*\"bodyguard\" + '\n",
            "  '0.001*\"see\" + 0.001*\"cut\" + 0.001*\"attack\" + 0.001*\"footage\" + 0.001*\"get\" '\n",
            "  '+ 0.001*\"go\"'),\n",
            " (5,\n",
            "  '0.049*\"album\" + 0.023*\"rocky\" + 0.022*\"release\" + 0.016*\"long\" + '\n",
            "  '0.014*\"debut\" + 0.013*\"also\" + 0.011*\"track\" + 0.010*\"copy\" + '\n",
            "  '0.010*\"number\" + 0.009*\"second\"'),\n",
            " (6,\n",
            "  '0.017*\"mayer\" + 0.014*\"rocky\" + 0.012*\"move\" + 0.012*\"new\" + 0.012*\"crack\" '\n",
            "  '+ 0.012*\"shelter\" + 0.012*\"mother\" + 0.012*\"sell\" + 0.011*\"perform\" + '\n",
            "  '0.010*\"manhattan\"'),\n",
            " (7,\n",
            "  '0.031*\"mayer\" + 0.017*\"album\" + 0.010*\"state\" + 0.010*\"rocky\" + 0.010*\"rap\" '\n",
            "  '+ 0.010*\"sell\" + 0.009*\"debut\" + 0.009*\"release\" + 0.009*\"long\" + '\n",
            "  '0.008*\"number\"'),\n",
            " (8,\n",
            "  '0.029*\"mayer\" + 0.020*\"jafari\" + 0.013*\"assault\" + 0.013*\"bodyguard\" + '\n",
            "  '0.012*\"also\" + 0.012*\"trial\" + 0.010*\"member\" + 0.010*\"arrest\" + '\n",
            "  '0.010*\"video\" + 0.008*\"entourage\"'),\n",
            " (9,\n",
            "  '0.014*\"august\" + 0.013*\"release\" + 0.012*\"video\" + 0.011*\"rocky\" + '\n",
            "  '0.011*\"music\" + 0.010*\"lee\" + 0.010*\"boi\" + 0.010*\"babushka\" + '\n",
            "  '0.010*\"entitle\" + 0.010*\"direct\"'),\n",
            " (10,\n",
            "  '0.004*\"release\" + 0.004*\"video\" + 0.004*\"feature\" + 0.004*\"blunt\" + '\n",
            "  '0.004*\"song\" + 0.004*\"produce\" + 0.003*\"follow\" + 0.003*\"day\" + '\n",
            "  '0.003*\"single\" + 0.003*\"mayer\"'),\n",
            " (11,\n",
            "  '0.012*\"release\" + 0.012*\"call\" + 0.012*\"rocky\" + 0.012*\"rockys\" + '\n",
            "  '0.012*\"inspire\" + 0.012*\"wear\" + 0.012*\"grow\" + 0.012*\"february\" + '\n",
            "  '0.012*\"gue\" + 0.012*\"admiration\"'),\n",
            " (12,\n",
            "  '0.019*\"rocky\" + 0.018*\"mayer\" + 0.010*\"also\" + 0.009*\"video\" + '\n",
            "  '0.008*\"assault\" + 0.007*\"june\" + 0.007*\"film\" + 0.006*\"government\" + '\n",
            "  '0.006*\"say\" + 0.006*\"woman\"'),\n",
            " (13,\n",
            "  '0.018*\"mayer\" + 0.015*\"jafari\" + 0.014*\"say\" + 0.013*\"song\" + 0.010*\"march\" '\n",
            "  '+ 0.010*\"rocky\" + 0.009*\"police\" + 0.007*\"make\" + 0.007*\"purple\" + '\n",
            "  '0.007*\"see\"'),\n",
            " (14,\n",
            "  '0.031*\"album\" + 0.028*\"release\" + 0.017*\"rocky\" + 0.012*\"announce\" + '\n",
            "  '0.012*\"mayer\" + 0.011*\"second\" + 0.011*\"number\" + 0.010*\"feature\" + '\n",
            "  '0.010*\"week\" + 0.010*\"testing\"')]\n"
          ],
          "name": "stdout"
        }
      ]
    },
    {
      "cell_type": "code",
      "metadata": {
        "id": "jzCJb9uFyYn5",
        "colab_type": "code",
        "colab": {}
      },
      "source": [
        ""
      ],
      "execution_count": 0,
      "outputs": []
    }
  ]
}